{
 "cells": [
  {
   "cell_type": "code",
   "execution_count": null,
   "id": "0f3d4969",
   "metadata": {},
   "outputs": [],
   "source": [
    "\"\"\"module 5\"\"\""
   ]
  },
  {
   "cell_type": "code",
   "execution_count": null,
   "id": "c0f267d8",
   "metadata": {},
   "outputs": [],
   "source": [
    "\"\"\" Why Django should be used for web-development? Explain how you can create a project in Django?\"\"\"\n",
    "\n",
    "# create a project in Django?\n",
    "\"\"\"\"\"\"\n",
    "Django is the best framework for web applications, as it allows developers to use modules for faster development. \n",
    "As a developer, you can make use of these modules to create apps, \n",
    "websites from an existing source. It speeds up the development process greatly, \n",
    "as you do not have to code everything from scratch.\n",
    "\n",
    "Django Create Project\n",
    "\n",
    "My First Project\n",
    "Once you have come up with a suitable name for your Django project, \n",
    "like mine: myworld, navigate to where in the file system you want to store the code (in the virtual environment), \n",
    "and run this command in the command prompt:\n",
    "python -m venv env\n",
    "\n",
    "env/Scripts/activate\n",
    "\n",
    "pip install django\n",
    "\n",
    "django-admin startproject myworld\n",
    "\n",
    "python manage.py runserver\n",
    "\"\"\"\n"
   ]
  },
  {
   "cell_type": "code",
   "execution_count": null,
   "id": "04b67917",
   "metadata": {},
   "outputs": [],
   "source": [
    "\"\"\" How to check installed version of django?\"\"\"\n",
    "\n",
    "\"\"\"type python -m django --version or type pip freeze to see all the versions of installed modules including Django\"\"\""
   ]
  },
  {
   "cell_type": "code",
   "execution_count": null,
   "id": "bf2aab63",
   "metadata": {},
   "outputs": [],
   "source": [
    "\"\"\" Mention what command line can be used to load data into Django?\"\"\"\n",
    "\n",
    "\"\"\" To load data into Django you have to use the command line Django-admin.py loaddata. \n",
    "The command line will searches the data and loads the contents of the named fixtures into the database.\"\"\""
   ]
  },
  {
   "cell_type": "code",
   "execution_count": null,
   "id": "f3b05597",
   "metadata": {},
   "outputs": [],
   "source": [
    "\"\"\" Explain what does django-admin.py make messages command is used for?\"\"\"\n",
    "\n",
    "\"\"\" makemessages. Runs over the entire source tree of the current directory and pulls out all \n",
    "strings marked for translation. It creates \n",
    "(or updates) a message file in the conf/locale (in the Django tree) or locale (for project and application) directory.\"\"\""
   ]
  },
  {
   "cell_type": "code",
   "execution_count": null,
   "id": "fda0722f",
   "metadata": {},
   "outputs": [],
   "source": [
    "\"\"\" What is .Django URLs?make program to create django urls\"\"\"\n",
    "\n",
    "\"\"\"  page on the Internet needs its own URL. \n",
    "This way your application knows what it should show to a user who opens that URL. \n",
    "In Django, we use something called URLconf (URL configuration). \n",
    "URLconf is a set of patterns that Django will try to match the requested URL to find the correct view.\n",
    "\n",
    "mysite/urls.py\n",
    "from django.contrib import admin\n",
    "from django.urls import path, include\n",
    "\n",
    "urlpatterns = [\n",
    "    path('admin/', admin.site.urls),\n",
    "    path('', include('blog.urls')),\n",
    "]\n",
    "urlpatterns = [\n",
    "    path('', views.post_list, name='post_list'),\n",
    "]\"\"\""
   ]
  },
  {
   "cell_type": "code",
   "execution_count": null,
   "id": "54d20d13",
   "metadata": {},
   "outputs": [],
   "source": [
    "\"\"\" What is a QuerySet?Write program to create a new Post object in database:\"\"\"\n",
    "\n",
    "\"\"\"  queryset is simply a list of objects from the Django Models. \n",
    "When using the Django ORM creating a new row in the table is simply like creating a new object of Model class.\n",
    "Django ORM maps these Model objects to Relational database query. \n",
    "Any SQL query can be written easily as Django queryset.\n",
    "classname.object.post()\n",
    "\"\"\"\n"
   ]
  }
 ],
 "metadata": {
  "kernelspec": {
   "display_name": "Python 3 (ipykernel)",
   "language": "python",
   "name": "python3"
  },
  "language_info": {
   "codemirror_mode": {
    "name": "ipython",
    "version": 3
   },
   "file_extension": ".py",
   "mimetype": "text/x-python",
   "name": "python",
   "nbconvert_exporter": "python",
   "pygments_lexer": "ipython3",
   "version": "3.9.12"
  }
 },
 "nbformat": 4,
 "nbformat_minor": 5
}
