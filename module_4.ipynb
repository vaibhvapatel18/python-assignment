{
 "cells": [
  {
   "cell_type": "code",
   "execution_count": null,
   "id": "9fd31a5c",
   "metadata": {},
   "outputs": [],
   "source": [
    "\"\"\"module 4\"\"\""
   ]
  },
  {
   "cell_type": "code",
   "execution_count": null,
   "id": "b1d2deb0",
   "metadata": {},
   "outputs": [],
   "source": [
    "\"\"\"What is File function in python? What is keywords to create and write file.\"\"\"\n",
    "\"\"\" file fuction is use for perform cirtain task with file \"\"\"\n",
    "f=open(\"filename\",\"w\")\n",
    "a=\"hii\"\n",
    "f.write(a)"
   ]
  },
  {
   "cell_type": "code",
   "execution_count": null,
   "id": "0eb21829",
   "metadata": {},
   "outputs": [],
   "source": [
    "\"\"\"Write a Python program to read an entire text file.\"\"\"\n",
    "with open(\"py1.txt\",\"r\") as f:\n",
    "    a=f.read()\n",
    "    print(a)"
   ]
  },
  {
   "cell_type": "code",
   "execution_count": null,
   "id": "0119cb48",
   "metadata": {},
   "outputs": [],
   "source": [
    "\"\"\" Write a Python program to append text to a file and display the text.\"\"\"\n",
    "f=open(\"py1.txt\",\"a\")\n",
    "a=\"this is append line\"\n",
    "f.write(a)\n",
    "f.close()\n",
    "f=open(\"py1.txt\",\"r\")\n",
    "a=f.read()\n",
    "print(a)\n",
    "f.close()"
   ]
  },
  {
   "cell_type": "code",
   "execution_count": null,
   "id": "b5d7f640",
   "metadata": {},
   "outputs": [],
   "source": [
    "\"\"\" Write a Python program to read first n lines of a file.\"\"\"\n",
    "f=open(\"py1.txt\",\"r\")\n",
    "a=f.readlines(2)\n",
    "print(a,end=\" \")\n",
    "f.close()"
   ]
  },
  {
   "cell_type": "code",
   "execution_count": null,
   "id": "41d12200",
   "metadata": {},
   "outputs": [],
   "source": [
    "\"\"\"rite a Python program to read last n lines of a file.\"\"\"\n",
    "f=open(\"py1.txt\",\"r\")\n",
    "a=f.readlines()\n",
    "print(a)\n",
    "print(a[-1])\n",
    "f.close()"
   ]
  },
  {
   "cell_type": "code",
   "execution_count": null,
   "id": "9cdfec81",
   "metadata": {},
   "outputs": [],
   "source": [
    "\"\"\" Write a Python program to read a file line by line and store it into a list.\"\"\"\n",
    "f=open(\"py1.txt\",\"r\")\n",
    "print(f.readlines())\n",
    "f.close()"
   ]
  },
  {
   "cell_type": "code",
   "execution_count": null,
   "id": "7925cd7b",
   "metadata": {},
   "outputs": [],
   "source": [
    "\"\"\" Write a Python program to read a file line by line store it into a variable.\"\"\"\n",
    "with open(\"py1.txt\",\"r\") as f:\n",
    "    x=1\n",
    "    for i in f.readlines():\n",
    "        print(f\"line{x}:{i}\")\n",
    "        x=x+1\n",
    "# s=f.readline(0)\n",
    "# a=len(f.readlines())\n",
    "# print(a)\n",
    "# for i in range(a+1):\n",
    "#     z=f.readline(i)\n",
    "#     print(f\"line{i}:{z}\")"
   ]
  },
  {
   "cell_type": "code",
   "execution_count": null,
   "id": "6c940bd2",
   "metadata": {},
   "outputs": [],
   "source": [
    "\"\"\" Write a python program to find the longest words.\"\"\"\n",
    "with open(\"py1.txt\",\"r\") as f:\n",
    "    a=f.read().split()\n",
    "#     print(a)\n",
    "    s=[]\n",
    "    for i in a:\n",
    "        x=len(i)\n",
    "        s.append(x)\n",
    "    d=s.index(max(s))\n",
    "    print(a[d])"
   ]
  },
  {
   "cell_type": "code",
   "execution_count": null,
   "id": "34fa7e2b",
   "metadata": {},
   "outputs": [],
   "source": [
    "\"\"\" Write a Python program to count the number of lines in a text file.\"\"\"\n",
    "with open(\"py1.txt\",\"r\") as f:\n",
    "    a=len(f.readlines())\n",
    "    print(a)"
   ]
  },
  {
   "cell_type": "code",
   "execution_count": null,
   "id": "363aecf8",
   "metadata": {},
   "outputs": [],
   "source": [
    "\"\"\"Write a Python program to count the frequency of words in a file.\"\"\"\n",
    "with open(\"py1.txt\",\"r\") as f:\n",
    "    words=dict()\n",
    "    for line in f:\n",
    "        word=line.split()\n",
    "        for i in word:\n",
    "            if i in words:\n",
    "                words[i]+=1\n",
    "            else:\n",
    "                words[i]=1\n",
    "    print(words)"
   ]
  },
  {
   "cell_type": "code",
   "execution_count": null,
   "id": "20e7e963",
   "metadata": {},
   "outputs": [],
   "source": [
    "\"\"\" Write a Python program to write a list to a file.\"\"\"\n",
    "with open(\"py1.txt\",\"a\") as f:\n",
    "    list1=[\"a\",\"b\",\"c\",1]\n",
    "    for i in list1:\n",
    "        f.write(str(i))\n",
    "with open(\"py1.txt\", \"r\") as f:\n",
    "    print(f.read())"
   ]
  },
  {
   "cell_type": "code",
   "execution_count": null,
   "id": "a412c891",
   "metadata": {},
   "outputs": [],
   "source": [
    "\"\"\"Write a Python program to copy the contents of a file to another file.\"\"\"\n",
    "with open(\"py1.txt\",\"r\") as f:\n",
    "    a=f.read()\n",
    "with open(\"py2.txt\",\"a\") as f:\n",
    "    f.write(a)"
   ]
  },
  {
   "cell_type": "code",
   "execution_count": null,
   "id": "2a16da75",
   "metadata": {},
   "outputs": [],
   "source": [
    "\"\"\"Explain Exception handling? What is an Error in Python?.\"\"\"\n",
    "\"\"\"Exception is an error that happens during the execution of a program.\n",
    "Whenever there is an error, Python generates an exception that could be handled.\n",
    "It basically prevents the program from getting crashed.\n",
    "\n",
    "error in a Python program is when a certain statement is not in particular usage.\n",
    "Such an error is called a syntax error.\"\"\" "
   ]
  },
  {
   "cell_type": "code",
   "execution_count": null,
   "id": "eea708d0",
   "metadata": {},
   "outputs": [],
   "source": [
    "\"\"\"How many except statements can a try-except block have? Name Some built-in exception classes:.\"\"\"\n",
    "\"\"\"\"at least one except statement.\n",
    "\n",
    "syntex error\n",
    "logical error\"\"\""
   ]
  },
  {
   "cell_type": "code",
   "execution_count": null,
   "id": "af5d28d8",
   "metadata": {},
   "outputs": [],
   "source": [
    "\"\"\"When will the else part of try-except-else be executed?.\"\"\"\n",
    "\"\"\" when no exception occure\"\"\""
   ]
  },
  {
   "cell_type": "code",
   "execution_count": null,
   "id": "cd1ad119",
   "metadata": {},
   "outputs": [],
   "source": [
    "\"\"\"Can one block of except statements handle multiple exception?.\"\"\"\n",
    "\"\"\" yes \"\"\""
   ]
  },
  {
   "cell_type": "code",
   "execution_count": null,
   "id": "dd41f6b9",
   "metadata": {},
   "outputs": [],
   "source": [
    "\"\"\" When is the finally block executed?.\"\"\"\n",
    "\"\"\"finally block is always executed after leaving the try statement.\"\"\""
   ]
  },
  {
   "cell_type": "code",
   "execution_count": null,
   "id": "ad04665c",
   "metadata": {},
   "outputs": [],
   "source": [
    "\"\"\"What happens when „1‟== 1 is executed?.\"\"\"\n",
    "\"1\"==1\n",
    "# false"
   ]
  },
  {
   "cell_type": "code",
   "execution_count": null,
   "id": "53d61b54",
   "metadata": {},
   "outputs": [],
   "source": [
    "\"\"\"How Do You Handle Exceptions With Try/Except/Finally In Python? Explain with coding snippets.\"\"\"\n",
    "try:\n",
    "    a=5\n",
    "    b=0\n",
    "    print (a/b)\n",
    "except TypeError:\n",
    "    print('Unsupported operation')\n",
    "except ZeroDivisionError:\n",
    "    print ('Division by zero not allowed')\n",
    "finally:\n",
    "    print(\"done\")"
   ]
  },
  {
   "cell_type": "code",
   "execution_count": null,
   "id": "d62c4efa",
   "metadata": {},
   "outputs": [],
   "source": [
    "\"\"\"Write python program that user to enter only odd numbers, else will raise an exception.\"\"\"\n",
    "a=int(input())\n",
    "if a%2==0:\n",
    "    raise NameError(\"use odd\")\n",
    "else:\n",
    "    print(\"okk\")"
   ]
  },
  {
   "cell_type": "code",
   "execution_count": null,
   "id": "7bcb68e9",
   "metadata": {},
   "outputs": [],
   "source": [
    "\"\"\"How to Define a Class in Python? What Is Self? Give An Example Of A Python Class.\"\"\"\n",
    "\"\"\" class difine using class keword \n",
    "class Abc:\n",
    "\n",
    "self points the instance of class\n",
    "\"\"\"\n",
    "class Abc:\n",
    "    pass\n",
    "a=Abc()"
   ]
  },
  {
   "cell_type": "code",
   "execution_count": null,
   "id": "f93d3eb4",
   "metadata": {},
   "outputs": [],
   "source": [
    "\"\"\"Write a Python class named Rectangle constructed by a length and width and a method which will compute\n",
    "the area of a rectangle.\"\"\"\n",
    "class Rectangle:\n",
    "    def __init__(self,h,w):\n",
    "        self.hight=h\n",
    "        self.width=w\n",
    "    def area(self):\n",
    "        return self.hight*self.width\n",
    "r=Rectangle(2,3)\n",
    "print(r.area())"
   ]
  },
  {
   "cell_type": "code",
   "execution_count": null,
   "id": "d7b03c9b",
   "metadata": {},
   "outputs": [],
   "source": [
    "\"\"\" Write a Python class named Circle constructed by a radius and two \n",
    "methods which will compute the area and the perimeter of a circle.\"\"\"\n",
    "class Circle:\n",
    "    def __init__(self,r):\n",
    "        self.r=r\n",
    "    def area(self):\n",
    "        print(self.r**2*3.14)\n",
    "    def perimeter(self):\n",
    "        print(2*self.r*3.14)\n",
    "c=Circle(4)\n",
    "c.area()\n",
    "c.perimeter()"
   ]
  },
  {
   "cell_type": "code",
   "execution_count": null,
   "id": "e131899a",
   "metadata": {},
   "outputs": [],
   "source": [
    "\"\"\"Explain Inheritance in Python with an example? What is init? Or What Is \n",
    "A Constructor In Python?.\"\"\"\n",
    "\"\"\"Inheritance is the mechanism to achieve the re-usability of code as one class(child class) \n",
    "can derive the properties of another class(parent class)\n",
    "\n",
    "The __init__ function is called every time an object is created from a class. is also call constructer\n",
    "\n",
    "__init__ special method to use initialize object\"\"\"\n"
   ]
  },
  {
   "cell_type": "code",
   "execution_count": null,
   "id": "7b9ea70b",
   "metadata": {},
   "outputs": [],
   "source": [
    "\"\"\"What is Instantiation in terms of OOP terminology?\"\"\"\n",
    "Object.\n",
    "Class.\n",
    "Abstraction.\n",
    "Inheritance.\n",
    "Polymorphism.\n",
    "Encapsulation"
   ]
  },
  {
   "cell_type": "code",
   "execution_count": null,
   "id": "ce41149c",
   "metadata": {},
   "outputs": [],
   "source": [
    "\"\"\"What is used to check whether an object o is an instance of class A?.\"\"\"\n",
    "a=1\n",
    "b=isinstance(a,int)\n",
    "print(b)\n",
    "class ABC:\n",
    "    pass\n",
    "a=ABC()\n",
    "print(isinstance(a,ABC))"
   ]
  },
  {
   "cell_type": "code",
   "execution_count": null,
   "id": "e46cadbf",
   "metadata": {},
   "outputs": [],
   "source": [
    "\"\"\" What relationship is appropriate for Course and Faculty?\"\"\"\n",
    "\"\"\"association \"\"\""
   ]
  },
  {
   "cell_type": "code",
   "execution_count": null,
   "id": "2d9d90fd",
   "metadata": {},
   "outputs": [],
   "source": [
    "\"\"\" What relationship is appropriate for Student and Person?\"\"\"\n",
    "\"\"\"composition \"\"\""
   ]
  }
 ],
 "metadata": {
  "kernelspec": {
   "display_name": "Python 3 (ipykernel)",
   "language": "python",
   "name": "python3"
  },
  "language_info": {
   "codemirror_mode": {
    "name": "ipython",
    "version": 3
   },
   "file_extension": ".py",
   "mimetype": "text/x-python",
   "name": "python",
   "nbconvert_exporter": "python",
   "pygments_lexer": "ipython3",
   "version": "3.9.12"
  }
 },
 "nbformat": 4,
 "nbformat_minor": 5
}
