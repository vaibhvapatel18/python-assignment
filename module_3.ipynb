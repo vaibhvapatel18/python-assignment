{
 "cells": [
  {
   "cell_type": "code",
   "execution_count": null,
   "id": "3fc92dc1",
   "metadata": {},
   "outputs": [],
   "source": [
    "\"\"\" module 3\"\"\""
   ]
  },
  {
   "cell_type": "code",
   "execution_count": null,
   "id": "0a769ff5",
   "metadata": {},
   "outputs": [],
   "source": [
    "\"\"\" What is List? How will you reverse a list? \"\"\"\n",
    "# list is collection of diffrent data types \n",
    "list1=[1,\"a\",True,0.1]\n",
    "print(list1[::-1])"
   ]
  },
  {
   "cell_type": "code",
   "execution_count": null,
   "id": "a84b633e",
   "metadata": {},
   "outputs": [],
   "source": [
    "\"\"\" How will you remove last object from a list? \"\"\"\n",
    "list1=[1,2,3,4,5,6,7,8,9]\n",
    "list1.pop()\n",
    "print(list1)"
   ]
  },
  {
   "cell_type": "code",
   "execution_count": null,
   "id": "ff8b0a79",
   "metadata": {},
   "outputs": [],
   "source": [
    "\"\"\"  Suppose list1 is [2, 33, 222, 14,\"and\", 25], what is list1 [-1]? \"\"\"\n",
    "list1=[2,33,222,14,25]\n",
    "print(list1[-1])"
   ]
  },
  {
   "cell_type": "code",
   "execution_count": null,
   "id": "cddc5cb1",
   "metadata": {},
   "outputs": [],
   "source": [
    "\"\"\"  Differentiate between append () and extend () methods? \"\"\"\n",
    "# append use for add values in end of the list\"\n",
    "list1=[1,2,3,4,5]\n",
    "list1.append(6)\n",
    "print(list1)\n",
    "\n",
    "# extend use to add iterable in list\n",
    "list2=[1,2,3,4,5]\n",
    "list2.extend([\"a\",\"b\"])\n",
    "print(list2)"
   ]
  },
  {
   "cell_type": "code",
   "execution_count": null,
   "id": "26c48d3d",
   "metadata": {},
   "outputs": [],
   "source": [
    "\"\"\"  Write a Python function to get the largest number, smallest num and sum of all from a list \"\"\"\n",
    "list1=[1,2,3,4,5,6,7,8,9,10]\n",
    "print(max(list1))\n",
    "print(min(list1))\n",
    "print(sum(list1))"
   ]
  },
  {
   "cell_type": "code",
   "execution_count": null,
   "id": "9edf6d22",
   "metadata": {},
   "outputs": [],
   "source": [
    "\"\"\"  How will you compare two lists? \"\"\"\n",
    "list1=[1,2,3,5]\n",
    "list2=[1,2,3,5]\n",
    "print(list1 == list2)"
   ]
  },
  {
   "cell_type": "code",
   "execution_count": null,
   "id": "582f9cc7",
   "metadata": {},
   "outputs": [],
   "source": [
    "\"\"\"  Write a Python program to count the number of strings where the string \n",
    "length is 2 or more and the first and last character are same from a given \n",
    "list of strings. \"\"\"\n",
    "string=input()\n",
    "a=(string.split(\" \"))\n",
    "l=[]\n",
    "for i in list(a):\n",
    "    if i not in l:\n",
    "        if len(i) > 2 and i[0]==i[-1]:\n",
    "            print(i,\",\",a.count(i))\n",
    "            l.append(i)"
   ]
  },
  {
   "cell_type": "code",
   "execution_count": null,
   "id": "a5569fd5",
   "metadata": {},
   "outputs": [],
   "source": [
    "\"\"\"  Write a Python program to remove duplicates from a list \"\"\"\n",
    "lis=[1,2,2,3,3,4,5,5,6,6,7,8,9]\n",
    "lis=set(lis)\n",
    "print(list(lis))"
   ]
  },
  {
   "cell_type": "code",
   "execution_count": null,
   "id": "a3fa8783",
   "metadata": {},
   "outputs": [],
   "source": [
    "\"\"\" Write a Python program to check a list is empty or not \"\"\"\n",
    "lis=[1]\n",
    "print(len(lis))\n",
    "if len(lis) == 0:\n",
    "    print(\"empty list\")\n",
    "else:\n",
    "    print(\"not empty list\")"
   ]
  },
  {
   "cell_type": "code",
   "execution_count": null,
   "id": "738e977f",
   "metadata": {},
   "outputs": [],
   "source": [
    "\"\"\"  Write a Python function that takes two lists and returns true if they have \n",
    "at least one common member. \"\"\"\n",
    "lis1=[121,2,1]\n",
    "lis2=[7,0,8,9,77,8,8,9,8,7,87,8,5,5,111,4,4,4,4,1,1]\n",
    "for i in lis1:\n",
    "    if i in lis2:\n",
    "        print(\"true\")\n",
    "        break\n",
    "else:\n",
    "    print(\"false\")"
   ]
  },
  {
   "cell_type": "code",
   "execution_count": null,
   "id": "3bc4843c",
   "metadata": {},
   "outputs": [],
   "source": [
    "\"\"\" Write a Python program to generate and print a list of first and last 5 \n",
    "elements where the values are square of numbers between 1 and 30 \"\"\"\n",
    "lis=[1,2,3,4,5,10,20,30,40,50]\n",
    "list1=[]\n",
    "list2=[]\n",
    "for j in lis[:5]:\n",
    "    if j >= 1 and j <= 30:\n",
    "        l1=j**2\n",
    "        list1.append(l1)\n",
    "for i in lis[-5:]:\n",
    "    if i >= 1 and i <= 30:\n",
    "        l2=i**2\n",
    "        list2.append(l2)\n",
    "print(list1+list2)"
   ]
  },
  {
   "cell_type": "code",
   "execution_count": null,
   "id": "930b0ebd",
   "metadata": {},
   "outputs": [],
   "source": [
    "\"\"\" Write a Python function that takes a list and returns a new list with unique \n",
    "elements of the first list.\"\"\"\n",
    "lis=[1,2,2,3,3,4,5,5,6,6,7,8,9]\n",
    "lis=set(lis)\n",
    "print(list(lis))"
   ]
  },
  {
   "cell_type": "code",
   "execution_count": null,
   "id": "a059eeac",
   "metadata": {},
   "outputs": [],
   "source": [
    "\"\"\" Write a Python program to convert a list of characters into a string.\"\"\"\n",
    "list1=[\"my\",\"is\",\"vaibhav\"]\n",
    "for i in list1:\n",
    "    v=i\n",
    "    print(v,end=\" \")\n",
    "print(\" \")   \n",
    "print(type(v))"
   ]
  },
  {
   "cell_type": "code",
   "execution_count": null,
   "id": "91fb9505",
   "metadata": {},
   "outputs": [],
   "source": [
    "\"\"\" Write a Python program to select an item randomly from a list.\"\"\"\n",
    "import random\n",
    "list1=[1,2,3,4,5,6,7,8,9]\n",
    "print(random.choice(list11))"
   ]
  },
  {
   "cell_type": "code",
   "execution_count": null,
   "id": "8d683733",
   "metadata": {},
   "outputs": [],
   "source": [
    "\"\"\" rite a Python program to find the second smallest number in a list.\"\"\"\n",
    "l=[1,2,3,4,5,6,7,8]\n",
    "a=min(l)\n",
    "l.remove(a)\n",
    "b=min(l)\n",
    "print(b)"
   ]
  },
  {
   "cell_type": "code",
   "execution_count": null,
   "id": "59585315",
   "metadata": {},
   "outputs": [],
   "source": [
    "\"\"\"  Write a Python program to get unique values from a list.\"\"\"\n",
    "lis=[1,2,2,3,3,4,5,5,6,6,7,8,9]\n",
    "lis=set(lis)\n",
    "print(list(lis))"
   ]
  },
  {
   "cell_type": "code",
   "execution_count": null,
   "id": "fc118518",
   "metadata": {},
   "outputs": [],
   "source": [
    "\"\"\"  Write a Python program to check whether a list contains a sub list.\"\"\"\n",
    "a=[0,1,2,3,4,5,6,7,8,9]\n",
    "b=[1,2,3,4,5]\n",
    "c=set(a)\n",
    "d=set(b)\n",
    "z=d.issubset(c)\n",
    "if z:\n",
    "    print(\"b is sub list of a\")\n",
    "else:\n",
    "    print(\"b is not sub list\")"
   ]
  },
  {
   "cell_type": "code",
   "execution_count": null,
   "id": "0b879bbe",
   "metadata": {},
   "outputs": [],
   "source": [
    "\"\"\"  Write a Python program to split a list into different variables.\"\"\"\n",
    "a=[\"a\",\"b\",\"c\"]\n",
    "x=a.\n",
    "for i in a:\n",
    "    print(i,\"=\",i.upper())\n"
   ]
  },
  {
   "cell_type": "code",
   "execution_count": null,
   "id": "d9ca65b3",
   "metadata": {},
   "outputs": [],
   "source": [
    "\"\"\"  What is tuple? Difference between list and tuple.\"\"\"\n",
    "# tuple is data strucutre use store values:\n",
    "\"\"\" list can be change but tuple are not change \"\"\""
   ]
  },
  {
   "cell_type": "code",
   "execution_count": null,
   "id": "2f22650d",
   "metadata": {},
   "outputs": [],
   "source": [
    "\"\"\" Write a Python program to create a tuple with different data types.\"\"\"\n",
    "tup=(1,\"a\",0.1,True)\n",
    "print(tup)"
   ]
  },
  {
   "cell_type": "code",
   "execution_count": null,
   "id": "75bf7de2",
   "metadata": {},
   "outputs": [],
   "source": [
    "\"\"\" Write a Python program to create a tuple with numbers.\"\"\"\n",
    "tup=(1,2,3,4,5,6,1,2,3,4,5)\n",
    "print(tup)"
   ]
  },
  {
   "cell_type": "code",
   "execution_count": null,
   "id": "bf911609",
   "metadata": {},
   "outputs": [],
   "source": [
    "\"\"\" Write a Python program to convert a tuple to a string.\"\"\"\n",
    "tup1=(\"my\",\"is\",\"vaibhav\")\n",
    "for i in tup1:\n",
    "    v=i\n",
    "    print(v,end=\" \")\n",
    "print()\n",
    "print(type(v))"
   ]
  },
  {
   "cell_type": "code",
   "execution_count": null,
   "id": "0ccc0e3e",
   "metadata": {},
   "outputs": [],
   "source": [
    "\"\"\"  Write a Python program to check whether an element exists within a tuple.\"\"\"\n",
    "element=int(input())\n",
    "tup1=(1,2,3,4,5,6,7,8,9)\n",
    "if element in tup1:\n",
    "    print(\"present\")\n",
    "else:\n",
    "    print(\"not present\")"
   ]
  },
  {
   "cell_type": "code",
   "execution_count": null,
   "id": "c868be96",
   "metadata": {},
   "outputs": [],
   "source": [
    "\"\"\"  Write a Python program to find the length of a tuple.\"\"\"\n",
    "tup1=(1,2,3,4,5,6,7,8,9)\n",
    "print(len(tup1))"
   ]
  },
  {
   "cell_type": "code",
   "execution_count": null,
   "id": "847a8316",
   "metadata": {},
   "outputs": [],
   "source": [
    "\"\"\" Write a Python program to convert a list to a tuple.\"\"\"\n",
    "tup1=(1,2,3,4,5,6,7,8,9)\n",
    "tup1=list(tup1)\n",
    "print(tup1)\n",
    "print(type(tup1))"
   ]
  },
  {
   "cell_type": "code",
   "execution_count": 1,
   "id": "6df62a8d",
   "metadata": {},
   "outputs": [
    {
     "name": "stdout",
     "output_type": "stream",
     "text": [
      "(1, 2, 3, 4, 5, 6, 7, 8, 9)\n",
      "(9, 8, 7, 6, 5, 4, 3, 2, 1)\n"
     ]
    }
   ],
   "source": [
    "\"\"\"  Write a Python program to reverse a tuple.\"\"\"\n",
    "tup1=(1,2,3,4,5,6,7,8,9)\n",
    "print(tup1)\n",
    "print(tup1[::-1])"
   ]
  },
  {
   "cell_type": "code",
   "execution_count": null,
   "id": "c116715d",
   "metadata": {},
   "outputs": [],
   "source": [
    "\"\"\"  Write a Python program to replace last value of tuples in a list\"\"\"\n",
    "list1=[1,(1,2),(1,2,3,4)]\n",
    "list2=[]\n",
    "for i in list1:\n",
    "    if type(i) == tuple:\n",
    "        i=list(i)\n",
    "        i[-1]=\"a\"\n",
    "        i=tuple(i)\n",
    "        list2.append(i)\n",
    "    else:\n",
    "        list2.append(i)\n",
    "print(list2)"
   ]
  },
  {
   "cell_type": "code",
   "execution_count": 2,
   "id": "9baaf1e7",
   "metadata": {},
   "outputs": [
    {
     "name": "stdout",
     "output_type": "stream",
     "text": [
      "1 >> 1 is repeted time 9\n",
      "2 >> 2 is repeted time 2\n",
      "5 >> 5 is repeted time 2\n",
      "a >> a is repeted time 2\n",
      "111 >> 111 is repeted time 2\n"
     ]
    }
   ],
   "source": [
    "\"\"\" Write a Python program to find the repeated items of a tuple\"\"\"\n",
    "tup1=(1,2,3,4,5,\"a\",\"b\",1,2,1,1,1,1,1,111,11,1,1,111,5,\"a\")\n",
    "l=[]\n",
    "for i in tup1:\n",
    "    if i not in l:\n",
    "        if tup1.count(i) >=2:\n",
    "            print(i,end=\" >> \")\n",
    "            print(i,\"is repeted time\",tup1.count(i))\n",
    "            l.append(i)"
   ]
  },
  {
   "cell_type": "code",
   "execution_count": null,
   "id": "1ad370d8",
   "metadata": {},
   "outputs": [],
   "source": [
    "\"\"\"  Write a Python program to remove an empty tuple(s) from a list of tuples.\"\"\"\n",
    "list1 = [(1, 2, 3), (4, 5, 6) ,(), (1), (1), (), 7, 8, 9]\n",
    "for i in list1:\n",
    "    if type(i)==tuple and len(i) < 1:\n",
    "        list1.remove(i)\n",
    "print(list1)"
   ]
  },
  {
   "cell_type": "code",
   "execution_count": 14,
   "id": "38c020f0",
   "metadata": {},
   "outputs": [
    {
     "data": {
      "text/plain": [
       "[(1, 4), (2, 5), (3, 6)]"
      ]
     },
     "execution_count": 14,
     "metadata": {},
     "output_type": "execute_result"
    }
   ],
   "source": [
    "\"\"\"  Write a Python program to unzip a list of tuples into individual lists.\"\"\"\n",
    "list1 = [(1, 2, 3),(4, 5, 6)]\n",
    "list(zip(*list1))"
   ]
  },
  {
   "cell_type": "code",
   "execution_count": null,
   "id": "66781715",
   "metadata": {},
   "outputs": [],
   "source": [
    "\"\"\" Write a Python program to convert a list of tuples into a dictionary.\"\"\"\n",
    "a=[(\"a\",1),(\"b\",2),(\"c\",3)]\n",
    "dict1=dict(a)\n",
    "print(dict1)"
   ]
  },
  {
   "cell_type": "code",
   "execution_count": null,
   "id": "1db0cbda",
   "metadata": {},
   "outputs": [],
   "source": [
    "\"\"\" How will you create a dictionary using tuples in python?\"\"\"\n",
    "tup=((1,2),(3,4),(5,6),(7,8))\n",
    "dict((a,b) for a,b in tup) \n"
   ]
  },
  {
   "cell_type": "code",
   "execution_count": null,
   "id": "cb7c7c74",
   "metadata": {},
   "outputs": [],
   "source": [
    "\"\"\" Write a Python script to sort (ascending and descending) a dictionary by value.\"\"\"\n",
    "d={\"a\":5,\"b\":1,\"c\":3,\"d\":2}\n",
    "print(d)\n",
    "d.sorted(key=d.values())\n",
    "print(d)"
   ]
  },
  {
   "cell_type": "code",
   "execution_count": null,
   "id": "62a4f654",
   "metadata": {},
   "outputs": [],
   "source": [
    "\"\"\" Write a Python script to concatenate following dictionaries to create a new one.\"\"\"\n",
    "dict1={\"a\":5,\"b\":1,\"c\":3,\"d\":2}\n",
    "dict2={\"e\":5,\"f\":8}\n",
    "dict1.update(dict2)\n",
    "print(dict1)"
   ]
  },
  {
   "cell_type": "code",
   "execution_count": null,
   "id": "9db780f9",
   "metadata": {},
   "outputs": [],
   "source": [
    "\"\"\" Write a Python script to check if a given key already exists in a dictionary.\"\"\"\n",
    "key1=input()\n",
    "dict1={\"a\":5,\"b\":1,\"c\":3,\"d\":2}\n",
    "key2=dict1.keys()\n",
    "if key1 in key2:\n",
    "    print(\"given key exist\")\n",
    "else:\n",
    "    print(\"key not exit\")"
   ]
  },
  {
   "cell_type": "code",
   "execution_count": null,
   "id": "762512e9",
   "metadata": {},
   "outputs": [],
   "source": [
    "\"\"\" How Do You Traverse Through A Dictionary Object In Python\"\"\"\n",
    "dict1={\"a\":5,\"b\":1,\"c\":3,\"d\":2}\n",
    "for key,value in dict1.items():\n",
    "    print(key,value)"
   ]
  },
  {
   "cell_type": "code",
   "execution_count": null,
   "id": "166f0d34",
   "metadata": {},
   "outputs": [],
   "source": [
    "\"\"\" How Do You Check The Presence Of A Key In A Dictionary?\"\"\"\n",
    "key1=input()\n",
    "dict1={\"a\":5,\"b\":1,\"c\":3,\"d\":2}\n",
    "key2=dict1.keys()\n",
    "if key1 in key2:\n",
    "    print(\"given key exist\")\n",
    "else:\n",
    "    print(\"key not exit\")"
   ]
  },
  {
   "cell_type": "code",
   "execution_count": null,
   "id": "f219d4f5",
   "metadata": {},
   "outputs": [],
   "source": [
    "\"\"\" Write a Python script to print a dictionary where the keys are numbers between 1 and 15\"\"\"\n",
    "dict1={1:2,2:3,12:5,36:2,15:1,16:4}\n",
    "d1={}\n",
    "for key,value in dict1.items():\n",
    "    if key >= 1 and key <= 15:\n",
    "        d1[key]=value\n",
    "print(d1)"
   ]
  },
  {
   "cell_type": "code",
   "execution_count": null,
   "id": "606dcae4",
   "metadata": {},
   "outputs": [],
   "source": [
    "\"\"\" Write a Python program to check multiple keys exists in a dictionary.\"\"\"\n",
    "dict1={1:4,12:5,36:2,15:1,16:4}\n",
    "if len(dict1) > 1:\n",
    "    print(\"multiple keys exits\")\n",
    "else:\n",
    "    print(\"no multiple keys\")"
   ]
  },
  {
   "cell_type": "code",
   "execution_count": null,
   "id": "fe457703",
   "metadata": {},
   "outputs": [],
   "source": [
    "\"\"\" Write a Python script to merge two Python dictionaries.\"\"\"\n",
    "dict1={\"a\":5,\"b\":1,\"c\":3,\"d\":2}\n",
    "dict2={\"e\":5,\"f\":8}\n",
    "dict1.update(dict2)\n",
    "print(dict1)"
   ]
  },
  {
   "cell_type": "code",
   "execution_count": null,
   "id": "f8188798",
   "metadata": {},
   "outputs": [],
   "source": [
    "\"\"\" Write a Python program to map two lists into a dictionary.\"\"\"\n",
    "list1=[\"a\",\"b\",\"c\",\"d\"]\n",
    "list2=[1,2,3,4]\n",
    "print(dict(zip(list1,list2)))"
   ]
  },
  {
   "cell_type": "code",
   "execution_count": null,
   "id": "260e9ecb",
   "metadata": {},
   "outputs": [],
   "source": [
    "\"\"\" Write a Python program to combine two dictionary adding values for \n",
    "common keys.\n",
    "o d1 = {'a': 100, 'b': 200, 'c':300}\n",
    "o d2 = {'a': 300, 'b': 200,’d’:400}\n",
    "Sample output: Counter ({'a': 400, 'b': 400,’d’: 400, 'c': 300}).\"\"\"\n",
    "\n",
    "d1 = {'a': 100, 'b': 200, 'c':300}\n",
    "d2 = {'a': 300, 'b': 200,'d':400}\n",
    "d3={}\n",
    "d4={}\n",
    "key1=d1.keys()\n",
    "key2=d2.keys()\n",
    "for i in key1:\n",
    "    if i in key2:\n",
    "        c=d1[i]+d2[i]\n",
    "        d3[i]=c\n",
    "    else:\n",
    "        d3[i]=d1[i]\n",
    "for i in key2:\n",
    "    if i in key1:\n",
    "        c=d1[i]+d2[i]\n",
    "        d4[i]=c\n",
    "    else:\n",
    "        d4[i]=d2[i]\n",
    "p=(d4.update(d3))\n",
    "print(d4)"
   ]
  },
  {
   "cell_type": "code",
   "execution_count": null,
   "id": "65496828",
   "metadata": {},
   "outputs": [],
   "source": [
    "\"\"\" Write a Python program to print all unique values in a dictionary.\"\"\"\n",
    "dict1={1:4,12:5,36:2,15:1,16:4,10:4,14:2,44:50}\n",
    "value1=dict1.values()\n",
    "print(list(set(value1)))"
   ]
  },
  {
   "cell_type": "code",
   "execution_count": 3,
   "id": "fcaab1b7",
   "metadata": {},
   "outputs": [
    {
     "name": "stdout",
     "output_type": "stream",
     "text": [
      "[(10, 30), (20, 40)]\n"
     ]
    }
   ],
   "source": [
    "\"\"\"  Why Do You Use the Zip () Method in Python?.\"\"\"\n",
    "a=[10,20]\n",
    "b=[30,40]\n",
    "print(list(zip(a,b)))"
   ]
  },
  {
   "cell_type": "code",
   "execution_count": null,
   "id": "37d41a2a",
   "metadata": {},
   "outputs": [],
   "source": [
    "\"\"\" Write a Python program to create and display all combinations of letters,\n",
    "selecting each letter from a different key in a dictionary.\n",
    "o Sample data: {'1': ['a','b'], '2': ['c','d']}\n",
    "o Expected Output:\n",
    "o ac ad bc bd.\"\"\"\n",
    "d={'1': ['a','b'], '2': ['c','d']}\n",
    "a,b=d.values()\n",
    "for i in a:\n",
    "    for j in b:\n",
    "            print(i+j,end=\" \")"
   ]
  },
  {
   "cell_type": "code",
   "execution_count": 13,
   "id": "64ceb8f8",
   "metadata": {},
   "outputs": [
    {
     "name": "stdout",
     "output_type": "stream",
     "text": [
      "[4, 5, 2, 1, 4, 4, 2, 50]\n",
      "[50, 5, 4]\n"
     ]
    }
   ],
   "source": [
    "\"\"\"  Write a Python program to find the highest 3 values in a dictionary.\"\"\"\n",
    "dict1={1:4,12:5,36:2,15:1,16:4,10:4,14:2,44:50}\n",
    "a=list(dict1.values())\n",
    "print(a)\n",
    "a.sort()\n",
    "print(a[-1:-4:-1])"
   ]
  },
  {
   "cell_type": "code",
   "execution_count": 7,
   "id": "b0861c53",
   "metadata": {},
   "outputs": [
    {
     "name": "stdout",
     "output_type": "stream",
     "text": [
      "{'item1': 1150, 'item2': 300}\n"
     ]
    }
   ],
   "source": [
    "\"\"\" Write a Python program to combine values in python list of dictionaries. \n",
    "Sample data: [{'item': 'item1', 'amount': 400}, {'item': 'item2', 'amount': \n",
    "300},\n",
    "o {'item': 'item1', 'amount': 750}]\n",
    "o Expected Output: Counter ({'item1': 1150, 'item2': 300}).\"\"\"\n",
    "data=[{'item': 'item1', 'amount': 400}, {'item': 'item2', 'amount': 300},{'item': 'item1', 'amount': 750}]\n",
    "# print(data)\n",
    "result_dict={}\n",
    "for i in data:\n",
    "    if i[\"item\"] not in result_dict:\n",
    "        result_dict[i['item']] = i['amount']\n",
    "    else:\n",
    "        result_dict[i['item']] += i['amount']\n",
    "print(result_dict)\n"
   ]
  },
  {
   "cell_type": "code",
   "execution_count": null,
   "id": "a85c788d",
   "metadata": {},
   "outputs": [],
   "source": [
    "\"\"\"  Write a Python program to create a dictionary from a string.\n",
    "o Note: Track the count of the letters from the string. Sample string:\n",
    "'w3resource'\n",
    "o Expected output: {'3': 1,’s’: 1, 'r': 2, 'u': 1, 'w': 1, 'c': 1, 'e': 2, 'o': 1}\"\"\"\n",
    "s=\"w3resource\"\n",
    "d={}\n",
    "for i in s:\n",
    "    if i not in d:\n",
    "        d[i] = 1\n",
    "    else:\n",
    "        d[i] += 1\n",
    "print(d)\n"
   ]
  },
  {
   "cell_type": "code",
   "execution_count": null,
   "id": "65d07e34",
   "metadata": {},
   "outputs": [],
   "source": [
    "\"\"\" Write a Python function to calculate the factorial of a number (a non\u0002negative integer).\"\"\"\n",
    "fact=1\n",
    "a=int(input(\"enter number: \"))\n",
    "for i in range(1,a+1):\n",
    "    fact=fact*i\n",
    "print(fact)"
   ]
  },
  {
   "cell_type": "code",
   "execution_count": null,
   "id": "c08184ef",
   "metadata": {},
   "outputs": [],
   "source": [
    "\"\"\" Write a Python function to check whether a number is in a given range.\"\"\"\n",
    "number=int(input())\n",
    "num_range=range(1,51)\n",
    "if number in num_range:\n",
    "    print(\"yes\")\n",
    "else:\n",
    "    print(\"not\")"
   ]
  },
  {
   "cell_type": "code",
   "execution_count": null,
   "id": "f32f3ac1",
   "metadata": {},
   "outputs": [],
   "source": [
    "\"\"\"  Write a Python function to check whether a number is perfect or not.\"\"\"\n",
    "def num(n):\n",
    "    sum=0\n",
    "    for i in range(1,n+1):\n",
    "        if n%i == 0:\n",
    "            sum =sum + i\n",
    "    if sum/2 == n:\n",
    "        return True\n",
    "n=int(input())\n",
    "num(n)"
   ]
  },
  {
   "cell_type": "code",
   "execution_count": null,
   "id": "09058f37",
   "metadata": {},
   "outputs": [],
   "source": [
    "\"\"\" Write a Python function that checks whether a passed string is palindrome or not.\"\"\"\n",
    "def func1(x):\n",
    "    y=x[::-1]\n",
    "    if x == y:\n",
    "        print(\"yes pelindrome\")\n",
    "    else:\n",
    "        print(\"not pelindrome\")\n",
    "x=input()\n",
    "func1(x)"
   ]
  },
  {
   "cell_type": "code",
   "execution_count": null,
   "id": "9313e09e",
   "metadata": {},
   "outputs": [],
   "source": [
    "\"\"\" How do you perform pattern matching in Python? Explain.\"\"\"\n"
   ]
  },
  {
   "cell_type": "code",
   "execution_count": null,
   "id": "a3ca2835",
   "metadata": {},
   "outputs": [],
   "source": [
    "\"\"\" What is lambda function in python? What we call a function which is incomplete version of a function?.\"\"\"\n",
    "\n",
    "# What is a Lambda Function in Python? A lambda function is an anonymous \n",
    "# function (i.e., defined without a name) that can take any number of arguments but,\n",
    "# unlike normal functions, evaluates and returns only one expression.\n",
    "# A lambda function in Python has the following syntax: lambda parameters\n",
    "\n",
    "x = lambda a, b, c : a + b + c\n",
    "print(x(5, 6, 2))"
   ]
  },
  {
   "cell_type": "code",
   "execution_count": null,
   "id": "151bc5c9",
   "metadata": {},
   "outputs": [],
   "source": [
    "\"\"\" How can you pick a random item from a list or tuple?.\"\"\"\n",
    "import random\n",
    "list1=[1,2,3,4,5]\n",
    "tuple1=(1,2,3,4,5)\n",
    "x=random.choice(list1)\n",
    "y=random.choice(tuple1)\n",
    "print(x, y)"
   ]
  },
  {
   "cell_type": "code",
   "execution_count": null,
   "id": "b75519e6",
   "metadata": {},
   "outputs": [],
   "source": [
    "\"\"\"  How can you pick a random item from a range?.\"\"\"\n",
    "import random\n",
    "x=random.randrange(1,5)\n",
    "print(x)"
   ]
  },
  {
   "cell_type": "code",
   "execution_count": null,
   "id": "dd28ae06",
   "metadata": {},
   "outputs": [],
   "source": [
    "\"\"\" How can you get a random number in python?.\"\"\"\n",
    "import random\n",
    "x=random.randint(1,100)\n",
    "print(x)"
   ]
  },
  {
   "cell_type": "code",
   "execution_count": null,
   "id": "09fa58e4",
   "metadata": {},
   "outputs": [],
   "source": [
    "\"\"\" How will you set the starting value in generating random numbers?.\"\"\"\n",
    "import random\n",
    "x=random.randint(1,5)\n",
    "print(x)"
   ]
  },
  {
   "cell_type": "code",
   "execution_count": null,
   "id": "a2a6694e",
   "metadata": {},
   "outputs": [],
   "source": [
    "\"\"\" How will you randomizes the items of a list in place?.\"\"\"\n",
    "import random\n",
    "list1=[1,2,3,4,5]\n",
    "random.shuffle(list1)\n",
    "print(list1)\n",
    "random.shuffle(list1)\n",
    "print(list1)"
   ]
  },
  {
   "cell_type": "code",
   "execution_count": null,
   "id": "178d7408",
   "metadata": {},
   "outputs": [],
   "source": [
    "\"\"\"  Write a Python program to convert degree to radian.\"\"\"\n",
    "pi=22/7\n",
    "d=float(input())\n",
    "radian=d*(pi/180)\n",
    "radian"
   ]
  },
  {
   "cell_type": "code",
   "execution_count": null,
   "id": "77b25922",
   "metadata": {},
   "outputs": [],
   "source": [
    "\"\"\"  Write a Python program to calculate the area of a trapezoid.\"\"\"\n",
    "height=int(input())\n",
    "base1=int(input())\n",
    "base2=int(input())\n",
    "area=(base1+base2)/2*height\n",
    "area"
   ]
  },
  {
   "cell_type": "code",
   "execution_count": null,
   "id": "863d2622",
   "metadata": {},
   "outputs": [],
   "source": [
    "\"\"\"  Write a Python program to calculate the area of a parallelogram>\"\"\"\n",
    "base=float(input())\n",
    "height=float(input())\n",
    "area=base*height\n",
    "area"
   ]
  },
  {
   "cell_type": "code",
   "execution_count": null,
   "id": "269f63eb",
   "metadata": {
    "scrolled": true
   },
   "outputs": [],
   "source": [
    "\"\"\" Write a Python program to calculate surface volume and area of a cylinder.\"\"\"\n",
    "pi=22/7\n",
    "radius=float(input())\n",
    "height=float(input())\n",
    "volume=pi*radius*radius*height\n",
    "area=((2*pi*radius)+((pi*radius**2)*2))\n",
    "volume\n",
    "area"
   ]
  },
  {
   "cell_type": "code",
   "execution_count": null,
   "id": "e1848ea8",
   "metadata": {},
   "outputs": [],
   "source": [
    "\"\"\" Write a Python program to returns sum of all divisors of a number.\"\"\"\n",
    "a=int(input())\n",
    "div=1\n",
    "for i in range(2,a):\n",
    "    if a%i==0:\n",
    "        div=div+i\n",
    "print(div)        "
   ]
  },
  {
   "cell_type": "code",
   "execution_count": null,
   "id": "0ea8204b",
   "metadata": {
    "scrolled": false
   },
   "outputs": [],
   "source": [
    "\"\"\" Write a Python program to find the maximum and minimum numbers \n",
    "from the specified decimal numbers.\"\"\"\n",
    "a=[1.10,0.01,5.7,2.7,7.5]\n",
    "print(max(a))\n",
    "print(min(a))\n"
   ]
  }
 ],
 "metadata": {
  "kernelspec": {
   "display_name": "Python 3 (ipykernel)",
   "language": "python",
   "name": "python3"
  },
  "language_info": {
   "codemirror_mode": {
    "name": "ipython",
    "version": 3
   },
   "file_extension": ".py",
   "mimetype": "text/x-python",
   "name": "python",
   "nbconvert_exporter": "python",
   "pygments_lexer": "ipython3",
   "version": "3.9.12"
  }
 },
 "nbformat": 4,
 "nbformat_minor": 5
}
