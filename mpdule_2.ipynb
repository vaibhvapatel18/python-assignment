{
 "cells": [
  {
   "cell_type": "code",
   "execution_count": null,
   "id": "ac647fbb",
   "metadata": {},
   "outputs": [],
   "source": [
    "\"\"\"module 2\"\"\""
   ]
  },
  {
   "cell_type": "code",
   "execution_count": null,
   "id": "647fcda3",
   "metadata": {},
   "outputs": [],
   "source": [
    "\"\"\" check number positive, nagative or not \"\"\"\n",
    "a=int(input(\"enter number: \"))\n",
    "if a == 0:\n",
    "    print(\"zero\")\n",
    "elif a>0:\n",
    "    print(\"positive\")\n",
    "elif a<0:\n",
    "    print(\"nagative\")\n",
    "else:___\n",
    "    print(\"enter valid number\")"
   ]
  },
  {
   "cell_type": "code",
   "execution_count": null,
   "id": "2b28919e",
   "metadata": {},
   "outputs": [],
   "source": [
    "\"\"\" fectorial of given number \"\"\"\n",
    "fact=1\n",
    "a=int(input(\"enter number: \"))\n",
    "for i in range(1,a+1):\n",
    "    # if a==1 or a==0:\n",
    "    #     print(fact)\n",
    "    # else:\n",
    "    fact=fact*i\n",
    "print(fact)"
   ]
  },
  {
   "cell_type": "code",
   "execution_count": null,
   "id": "332ae3e2",
   "metadata": {},
   "outputs": [],
   "source": [
    "\"\"\" fibonacci series for given number range\"\"\"\n",
    "a=0\n",
    "b=1\n",
    "n=int(input(\"enter digit: \"))\n",
    "if n==0 or n==1:\n",
    "    print(1)\n",
    "else:\n",
    "    print(a,end=\" \")\n",
    "    print(b,end=\" \")\n",
    "    for i in range(2,n):\n",
    "        c=a+b\n",
    "        a=b\n",
    "        b=c\n",
    "        print(c,end=\" \")"
   ]
  },
  {
   "cell_type": "code",
   "execution_count": null,
   "id": "defd195e",
   "metadata": {},
   "outputs": [],
   "source": [
    "\"\"\" swap to number with temp variable or without variable\"\"\"\n",
    "a=int(input())\n",
    "b=int(input())\n",
    "\"\"\" without temp \"\"\"\n",
    "a=b\n",
    "b=a\n",
    "print(\"a=\",a,\"b=\",b)\n",
    "# with temp variable\n",
    "a=int(input())\n",
    "b=int(input())\n",
    "temp=1\n",
    "temp=a\n",
    "a=b\n",
    "b=temp\n",
    "print(\"a=\",a,\"b=\",b)"
   ]
  },
  {
   "cell_type": "code",
   "execution_count": null,
   "id": "b6c183e3",
   "metadata": {},
   "outputs": [],
   "source": [
    "\"\"\" how memory managegd in python\"\"\"\n",
    "\n",
    "\"\"\"Garbage collection is a process in which the \n",
    "interpreter frees up the memory when not in use to make it available for other objects\"\"\"\n",
    "\n",
    "\"\"\"Reference counting works by counting the number of times an object is referenced by other objects in the system. \n",
    "When references to an object are removed, the reference count for an object is decremented. \n",
    "When the reference count becomes zero, the object is deallocated.\"\"\""
   ]
  },
  {
   "cell_type": "code",
   "execution_count": null,
   "id": "d79a2659",
   "metadata": {},
   "outputs": [],
   "source": [
    "\"\"\" what purpose continue statement in python \"\"\"\n",
    "\n",
    "\"\"\"The continue keyword is used to end the current iteration in a for loop (or a while loop), \n",
    "and continues to the next iteration. \"\"\"\n",
    "\n",
    "for var1 in \"vaibhav\":\n",
    "    if var1 == \"a\":\n",
    "        continue\n",
    "    print(var1)"
   ]
  },
  {
   "cell_type": "code",
   "execution_count": null,
   "id": "f63d100d",
   "metadata": {},
   "outputs": [],
   "source": [
    "\"\"\" given number is even or odd \"\"\"\n",
    "num=int(input(\"enter number: \"))\n",
    "if num%2==0:\n",
    "    print(\"even number\")\n",
    "else:\n",
    "    print(\"odd number\")"
   ]
  },
  {
   "cell_type": "code",
   "execution_count": null,
   "id": "5fe99bac",
   "metadata": {},
   "outputs": [],
   "source": [
    "\"\"\" pass letter vowel or not \"\"\"\n",
    "letter=input(\"enter latter: \")\n",
    "vovel=[\"a\",\"e\",\"i\",\"o\",\"u\",\"A\",\"E\",\"I\",\"O\",\"U\"]\n",
    "if letter in vovel:\n",
    "    print(\"vovel latter\")\n",
    "else:\n",
    "    print(\"not vovel latter\")"
   ]
  },
  {
   "cell_type": "code",
   "execution_count": null,
   "id": "9bb674f4",
   "metadata": {},
   "outputs": [],
   "source": [
    "\"\"\" sum of three integers if two values are same sum will be zero\"\"\"\n",
    "a=int(input(\":\"))\n",
    "b=int(input(\":\"))\n",
    "c=int(input(\":\"))\n",
    "if a==b or a==c or b==c:\n",
    "    print(\"sum= zero\")\n",
    "else:\n",
    "    print(\"sum=\",a+b+c)"
   ]
  },
  {
   "cell_type": "code",
   "execution_count": null,
   "id": "285aa14d",
   "metadata": {},
   "outputs": [],
   "source": [
    "\"\"\" return true if given two intgers are same or thair sum or defference\"\"\"\n",
    "a=int(input(\":\"))\n",
    "b=int(input(\":\"))\n",
    "if a==b or a+b==5 or a-b==5:\n",
    "    print(\"true\")\n",
    "else:\n",
    "    print(\"false\")"
   ]
  },
  {
   "cell_type": "code",
   "execution_count": null,
   "id": "5e0bd1a3",
   "metadata": {},
   "outputs": [],
   "source": [
    "\"\"\" sum of n positine number \"\"\"\n",
    "sum=0\n",
    "n=int(input(\"enert number: \"))\n",
    "for i in range(1,n+1):\n",
    "    sum=sum + i\n",
    "print(\"sum of first\",n,\"positive numbres are\",sum)"
   ]
  },
  {
   "cell_type": "code",
   "execution_count": null,
   "id": "57142c8f",
   "metadata": {},
   "outputs": [],
   "source": [
    "\"\"\" calculate len of string\"\"\"\n",
    "string=input(\"enter string: \")\n",
    "lenth=len(string)\n",
    "print(lenth)"
   ]
  },
  {
   "cell_type": "code",
   "execution_count": null,
   "id": "57792728",
   "metadata": {},
   "outputs": [],
   "source": [
    "\"\"\" count number of cherecter in string \"\"\"\n",
    "string=input()\n",
    "l=[]\n",
    "m=[]\n",
    "for i in string:\n",
    "    l.append(i)\n",
    "print(l)\n",
    "print(len(l))\n",
    "for j in l:\n",
    "    if j not in m:\n",
    "        print(j,\",\",l.count(j))\n",
    "        m.append(j)\n"
   ]
  },
  {
   "cell_type": "code",
   "execution_count": null,
   "id": "93cda773",
   "metadata": {},
   "outputs": [],
   "source": [
    "\"\"\" why negative index use \"\"\"\n",
    "\"\"\" Python supports “indexing from the end”, that is, negative indexing. \n",
    "This means the last value of a sequence has an index of -1, the second last -2, and so on. \n",
    "You can use negative indexing as your advantage\n",
    "when you want to pick values from the end (right side) of an iterable.\"\"\"\n",
    "list1=[1,2,3,4,5]\n",
    "print(list1[::-1])"
   ]
  },
  {
   "cell_type": "code",
   "execution_count": null,
   "id": "bd072995",
   "metadata": {},
   "outputs": [],
   "source": [
    "\"\"\" count sub string occure in string \"\"\"\n",
    "string=input()\n",
    "a=(string.split(\" \"))\n",
    "l=[]\n",
    "for i in list(a):\n",
    "    if i not in l:\n",
    "        print(i,\",\",a.count(i))\n",
    "        l.append(i)"
   ]
  },
  {
   "cell_type": "code",
   "execution_count": null,
   "id": "dfb1dadf",
   "metadata": {},
   "outputs": [],
   "source": [
    "\"\"\" swap and print first two character\"\"\"\n",
    "str1=input()\n",
    "str2=input()\n",
    "s1=str2[:2]+str1[2:]\n",
    "s2=str1[:2]+str2[2:]\n",
    "print(s1+\" \"+s2)"
   ]
  },
  {
   "cell_type": "code",
   "execution_count": null,
   "id": "e12bde4f",
   "metadata": {},
   "outputs": [],
   "source": [
    "\"\"\" Write a Python program to add 'ing' at the end of a given string (length\n",
    "should be at least 3). If the given string already ends with 'ing' then add 'ly'\n",
    "insteadif the string length of the given string is less than 3, leave it\n",
    "unchanged.\"\"\"\n",
    "str1=input()\n",
    "if len(str1) < 3:\n",
    "    print(str1)\n",
    "elif len(str1) > 3 and str1.endswith(\"ing\"):\n",
    "    a=str1.index(\"ing\")\n",
    "    s1=str1[:a]\n",
    "    print(str1.replace(s1,\"ly\"))\n",
    "elif len(str1) > 3 and str1[-3:]!=\"ing\":\n",
    "    print(str1+\"ing\")"
   ]
  },
  {
   "cell_type": "code",
   "execution_count": null,
   "id": "904a6e98",
   "metadata": {},
   "outputs": [],
   "source": [
    "\"\"\"Write a Python program to find the first appearance of the substring 'not'\n",
    "and 'poor' froma given string, if 'not' follows the 'poor', replace the whole\n",
    "'not'...'poor'substring with 'good'. Return the resulting string \"\"\"\n",
    "str1=input()\n",
    "nidx=str1.find(\"not\")\n",
    "pidx=str1.find(\"poor\")\n",
    "if nidx < pidx:\n",
    "    print(str1.replace(str1[nidx:pidx+4],\"good\"))\n",
    "else:\n",
    "    print(str1)"
   ]
  },
  {
   "cell_type": "code",
   "execution_count": null,
   "id": "2d7c3493",
   "metadata": {},
   "outputs": [],
   "source": [
    "\"\"\"  Write a Python function that takes a list of words and returns the length of the longest one.\"\"\"\n",
    "string=input(\"enter words with space :\") #enter string auto convert in list\n",
    "lst=string.split(\" \")\n",
    "ele=lst\n",
    "print(ele)\n",
    "m_len=0\n",
    "for i in ele:\n",
    "#     m_len=0\n",
    "    if(len(i) > m_len):\n",
    "        m_len=len(i)\n",
    "        maximum=i\n",
    "print(maximum,len(i))"
   ]
  },
  {
   "cell_type": "code",
   "execution_count": null,
   "id": "19401527",
   "metadata": {},
   "outputs": [],
   "source": [
    "\"\"\" Write a Python function to reverses a string if its length is a multiple of 4.\"\"\"\n",
    "string=input()\n",
    "if(len(string)) % 4 == 0:\n",
    "    print(string[::-1])\n",
    "else:\n",
    "    print(\"not\")"
   ]
  },
  {
   "cell_type": "code",
   "execution_count": null,
   "id": "846f8c59",
   "metadata": {},
   "outputs": [],
   "source": [
    "\"\"\" Write a Python function to reverses a string if its length is a multiple of 4.\n",
    " Write a Python program to get a string made of the first 2 and the last 2\n",
    "chars from a given a string. Ifthe string length islessthan 2,return instead\n",
    "of the empty string.\n",
    "o Sample String:w3resource'\n",
    "o Expected Result: 'w3ce'\n",
    "o Sample String: 'w3'\n",
    "o Expected Result: 'w3w3'\n",
    "o Sample String: ' w'\n",
    "o Expected Result: Empty String\"\"\"\n",
    "semple_string=\"w3resource\"\n",
    "result1=semple_string[0:2]\n",
    "result2=semple_string[-2:]\n",
    "print(result1+result2)\n",
    "semple_string=\"w3\"\n",
    "result1=semple_string*2\n",
    "print(result1)\n",
    "semple_string=input(\": \")\n",
    "if len(semple_string) < 2:\n",
    "    print(\"empty string\")\n",
    "else:\n",
    "    print(\"not empty\")"
   ]
  },
  {
   "cell_type": "code",
   "execution_count": null,
   "id": "e0fcc62c",
   "metadata": {},
   "outputs": [],
   "source": [
    "\"\"\" Write a Python function to insert a string in the middle of a string.\"\"\"\n",
    "s=input()\n",
    "s1=\"python\"\n",
    "a=s.split(\" \")\n",
    "if len(a)%2==0:\n",
    "    a.insert(int(len(a)/2),s1)\n",
    "else:\n",
    "    a.insert((len(a)//2),s1)\n",
    "print(a)"
   ]
  }
 ],
 "metadata": {
  "kernelspec": {
   "display_name": "Python 3 (ipykernel)",
   "language": "python",
   "name": "python3"
  },
  "language_info": {
   "codemirror_mode": {
    "name": "ipython",
    "version": 3
   },
   "file_extension": ".py",
   "mimetype": "text/x-python",
   "name": "python",
   "nbconvert_exporter": "python",
   "pygments_lexer": "ipython3",
   "version": "3.9.12"
  }
 },
 "nbformat": 4,
 "nbformat_minor": 5
}
